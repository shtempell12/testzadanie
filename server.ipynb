{
  "nbformat": 4,
  "nbformat_minor": 0,
  "metadata": {
    "colab": {
      "provenance": []
    },
    "kernelspec": {
      "name": "python3",
      "display_name": "Python 3"
    },
    "language_info": {
      "name": "python"
    }
  },
  "cells": [
    {
      "cell_type": "code",
      "execution_count": null,
      "metadata": {
        "id": "fVfgw-4HYY9w"
      },
      "outputs": [],
      "source": [
        "import socket\n",
        "\n",
        "# Создание сокета\n",
        "server_socket = socket.socket(socket.AF_INET, socket.SOCK_STREAM)\n",
        "server_socket.bind(('localhost', 12345))\n",
        "server_socket.listen()\n",
        "\n",
        "# Обработка запросов от клиентов\n",
        "while True:\n",
        "    client_socket, addr = server_socket.accept()\n",
        "    data = client_socket.recv(1024).decode()\n",
        "\n",
        "    # Обработка запроса и отправка ответа\n",
        "    if data.startswith(\"ADD\"):\n",
        "        # Обработка запроса на добавление записи\n",
        "        pass\n",
        "    elif data.startswith(\"DELETE\"):\n",
        "        # Обработка запроса на удаление записи\n",
        "        pass\n",
        "    elif data.startswith(\"SEARCH\"):\n",
        "        # Обработка запроса на поиск записи\n",
        "        pass\n",
        "    elif data.startswith(\"VIEW\"):\n",
        "        # Обработка запроса на просмотр записи\n",
        "        pass\n",
        "\n",
        "    client_socket.close()"
      ]
    }
  ]
}