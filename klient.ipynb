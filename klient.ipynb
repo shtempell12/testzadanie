{
  "nbformat": 4,
  "nbformat_minor": 0,
  "metadata": {
    "colab": {
      "provenance": []
    },
    "kernelspec": {
      "name": "python3",
      "display_name": "Python 3"
    },
    "language_info": {
      "name": "python"
    }
  },
  "cells": [
    {
      "cell_type": "code",
      "execution_count": 1,
      "metadata": {
        "id": "Fd00kPX6XSm3"
      },
      "outputs": [],
      "source": [
        "import socket\n",
        "\n",
        "def add_contact(name, surname, phone_number, note):\n",
        "    # Отправка запроса на сервер для добавления новой записи\n",
        "    pass\n",
        "\n",
        "def delete_contact(contact_id):\n",
        "    # Отправка запроса на сервер для удаления записи\n",
        "    pass\n",
        "\n",
        "def search_contact(field, value):\n",
        "    # Отправка запроса на сервер для поиска записи\n",
        "    pass\n",
        "\n",
        "def view_contact(contact_id):\n",
        "    # Отправка запроса на сервер для просмотра записи\n",
        "    pass\n",
        "\n",
        "# Пример использования функций\n",
        "add_contact(\"Иван\", \"Иванов\", \"123456789\", \"Заметка\")\n",
        "delete_contact(1)\n",
        "search_contact(\"name\", \"Иван\")\n",
        "view_contact(2)"
      ]
    }
  ]
}